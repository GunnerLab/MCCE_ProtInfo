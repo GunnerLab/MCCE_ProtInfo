{
 "cells": [
  {
   "cell_type": "markdown",
   "metadata": {},
   "source": [
    "_Run the first 2 code cells without modifications_"
   ]
  },
  {
   "cell_type": "code",
   "execution_count": 1,
   "metadata": {
    "jupyter": {
     "source_hidden": true
    },
    "scrolled": true
   },
   "outputs": [
    {
     "name": "stdout",
     "output_type": "stream",
     "text": [
      "Python ver: 3.12.3 | packaged by conda-forge | (main, Apr 15 2024, 18:38:13) [GCC 12.3.0]\n",
      "Python env: rpt\n",
      "Currrent dir: /home/cat/projects/MCCE_ProtInfo/notebooks\n",
      "\n"
     ]
    }
   ],
   "source": [
    "from IPython.core.interactiveshell import InteractiveShell\n",
    "InteractiveShell.ast_node_interactivity = \"all\"\n",
    "\n",
    "from IPython.display import Markdown, Image\n",
    "# for presentations:\n",
    "#display(HTML(\"<style>.container { width:100% !important; }</style>\"))\n",
    "\n",
    "import numpy as np\n",
    "import pandas as pd\n",
    "from pathlib import Path\n",
    "from pprint import pprint as ptp\n",
    "import sys\n",
    "import time\n",
    "\n",
    "#pd.set_option(\"display.max_colwidth\", 200)\n",
    "import matplotlib as mpl\n",
    "from matplotlib import pyplot as plt\n",
    "plt.ion()\n",
    "plt.style.use('seaborn-v0_8-muted')\n",
    "\n",
    "print('Python ver: {}\\nPython env: {}'.format(sys.version, Path(sys.prefix).name))\n",
    "print('Currrent dir: {}\\n'.format(Path.cwd()))\n",
    "\n",
    "\n",
    "def add_to_sys_path(this_path, up=False):\n",
    "    \"\"\"\n",
    "    Prepend this_path to sys.path.\n",
    "    If up=True, path refers to parent folder (1 level up).\n",
    "    \"\"\"\n",
    "\n",
    "    if up:\n",
    "        newp = str(Path(this_path).parent)\n",
    "    else:\n",
    "        newp = str(Path(this_path))\n",
    "    if newp not in sys.path:\n",
    "        sys.path.insert(1, newp)\n",
    "        print('Path added to sys.path: {}'.format(newp))\n",
    "\n",
    "\n",
    "def fdir(obj, start_with_str='_', exclude=True):\n",
    "    \"\"\"Filtered dir() for method discovery.\"\"\"\n",
    "    return [d for d in dir(obj) if not d.startswith(start_with_str) == exclude]\n",
    "\n",
    "def despine(which=['top','right']):\n",
    "    \"\"\"which ([str])): 'left','top','right','bottom'.\"\"\"\n",
    "\n",
    "    ax = plt.gca()\n",
    "    for side in which:\n",
    "        ax.spines[side].set_visible(False)\n",
    "    return\n",
    "\n",
    "def md_width_comment(w:int=120) -> str:\n",
    "    \"\"\"Width guide for composing md documents.\"\"\"\n",
    "    return f\"<!-- dotted line width = {w}\\n{'.'*w}-->\"\n",
    "\n",
    "\n",
    "# autoreload extension\n",
    "%load_ext autoreload\n",
    "%autoreload 2"
   ]
  },
  {
   "cell_type": "raw",
   "metadata": {},
   "source": [
    "notebooks_dir = Path.cwd()\n",
    "add_to_sys_path(notebooks_dir, up=True)\n",
    "notebooks_dir"
   ]
  },
  {
   "cell_type": "markdown",
   "metadata": {},
   "source": [
    "---\n",
    "---"
   ]
  },
  {
   "cell_type": "code",
   "execution_count": 2,
   "metadata": {},
   "outputs": [],
   "source": [
    "from argparse import Namespace\n",
    "import Bio.PDB\n",
    "from collections import defaultdict\n",
    "from protinfo import USER_MCCE\n",
    "from protinfo import info, log_parser, run\n",
    "from protinfo.io_utils import subprocess_run, subprocess\n",
    "import requests\n",
    "import shutil\n",
    "from typing import Union\n",
    "import warnings"
   ]
  },
  {
   "cell_type": "code",
   "execution_count": 3,
   "metadata": {},
   "outputs": [
    {
     "data": {
      "text/plain": [
       "'/home/cat/miniconda3/envs/rpt/bin/mcce'"
      ]
     },
     "execution_count": 3,
     "metadata": {},
     "output_type": "execute_result"
    }
   ],
   "source": [
    "USER_MCCE"
   ]
  },
  {
   "cell_type": "code",
   "execution_count": 105,
   "metadata": {},
   "outputs": [
    {
     "data": {
      "text/plain": [
       "'HEADER    6kig-assembly1.cif converted to pdb by MCCE_ProtInfo; truncated: True\\nTITLE     \"Structure of cyanobacterial photosystem I-IsiA supercomplex\" \\n'"
      ]
     },
     "execution_count": 105,
     "metadata": {},
     "output_type": "execute_result"
    },
    {
     "name": "stdout",
     "output_type": "stream",
     "text": [
      "HEADER    6kig-assembly1.cif converted to pdb by MCCE_ProtInfo; truncated: True\n",
      "TITLE     \"Structure of cyanobacterial photosystem I-IsiA supercomplex\" \n"
     ]
    }
   ],
   "source": [
    "cif_file = Path(\"6kig-assembly1.cif\")\n",
    "protname = iou.get_cif_protname(cif_file)\n",
    "#pdb_out = iou.cif2pdb(cif_file)\n"
   ]
  },
  {
   "cell_type": "code",
   "execution_count": 127,
   "metadata": {},
   "outputs": [
    {
     "data": {
      "text/plain": [
       "'\"Structure Of Cyanobacterial Photosystem I-Isia Supercomplex\"\\nNOTE: 6kig-assembly1.cif converted to pdb by mcce_protinfo; truncated: true'"
      ]
     },
     "execution_count": 127,
     "metadata": {},
     "output_type": "execute_result"
    }
   ],
   "source": [
    "pdb_from_cif_fp = Path(\"6kig.pdb\")\n",
    "#insert_pdb_hdr(pdb_from_cif_fp, hdr)\n",
    "pdb_hdr_d = Bio.PDB.parse_pdb_header(pdb_from_cif_fp)\n",
    "\n",
    "if \"truncated\" in pdb_hdr_d.get(\"head\"):\n",
    "    pdb_prot = f\"{pdb_hdr_d.get('name').title()}\\nNOTE: {pdb_hdr_d.get('head')}\"\n",
    "else:\n",
    "    pdb_prot = pdb_hdr_d.get(\"name\")\n",
    "\n",
    "pdb_prot"
   ]
  },
  {
   "cell_type": "code",
   "execution_count": 126,
   "metadata": {},
   "outputs": [
    {
     "name": "stdout",
     "output_type": "stream",
     "text": [
      "HEADER    6kig-assembly1.cif converted to pdb by MCCE_ProtInfo; truncated: True\n",
      "TITLE     \"Structure of cyanobacterial photosystem I-IsiA supercomplex\" \n",
      "ATOM      1  N   LYS A  13     197.542 182.828 269.142  1.00 29.33           N  \n",
      "ATOM      2  CA  LYS A  13     198.177 183.951 268.467  1.00 29.33           C  \n",
      "ATOM      3  C   LYS A  13     197.139 184.965 268.013  1.00 29.33           C  \n",
      "ATOM      4  O   LYS A  13     197.362 186.172 268.086  1.00 29.33           O  \n",
      "ATOM      5  CB  LYS A  13     198.995 183.463 267.275  1.00 29.33           C  \n",
      "ATOM      6  CG  LYS A  13     200.252 184.272 267.040  1.00 29.33           C  \n",
      "ATOM      7  CD  LYS A  13     201.182 184.177 268.235  1.00 29.33           C  \n",
      "ATOM      8  CE  LYS A  13     202.329 185.155 268.113  1.00 29.33           C  \n"
     ]
    }
   ],
   "source": [
    "!head {pdb_from_cif_fp}"
   ]
  },
  {
   "cell_type": "raw",
   "metadata": {},
   "source": [
    "cif_file = Path(\"6kig-assembly1.cif\")\n",
    "\n",
    "protname = get_cif_protname(cif_file)\n",
    "print(protname)"
   ]
  },
  {
   "cell_type": "code",
   "execution_count": 19,
   "metadata": {},
   "outputs": [
    {
     "name": "stdout",
     "output_type": "stream",
     "text": [
      "{1: LogHdr(idx=1,\n",
      "           hdr='   Rename residue and atom names...',\n",
      "           rpt_hdr='Renamed:',\n",
      "           line_start='   Renaming ',\n",
      "           skip_lines=None,\n",
      "           debuglog=False),\n",
      " 2: LogHdr(idx=2,\n",
      "           hdr='   Identify NTR and CTR...',\n",
      "           rpt_hdr='Termini:',\n",
      "           line_start='      Labeling ',\n",
      "           skip_lines=None,\n",
      "           debuglog=False),\n",
      " 3: LogHdr(idx=3,\n",
      "           hdr='   Label backbone, sidechain and altLoc conformers...',\n",
      "           rpt_hdr='Labeling:',\n",
      "           line_start='      Labeling ',\n",
      "           skip_lines=('   Creating temporary parameter file for unrecognized '\n",
      "                       'residue...',\n",
      "                       '   Trying labeling again...',\n",
      "                       '   Try delete this entry and run MCCE again',\n",
      "                       '   Error! premcce_confname()',\n",
      "                       ' is already loaded somewhere else.'),\n",
      "           debuglog=False),\n",
      " 4: LogHdr(idx=4,\n",
      "           hdr='   Load pdb lines into data structure...',\n",
      "           rpt_hdr='Load Structure:',\n",
      "           line_start=None,\n",
      "           skip_lines=None,\n",
      "           debuglog=False),\n",
      " 5: LogHdr(idx=5,\n",
      "           hdr='   Strip free cofactors with SAS >   5%...',\n",
      "           rpt_hdr='Free Cofactors:',\n",
      "           line_start=None,\n",
      "           skip_lines=('free cofactors were stripped off in this round',\n",
      "                       'saved in debug.log.'),\n",
      "           debuglog=False),\n",
      " 6: LogHdr(idx=6,\n",
      "           hdr='   Check missing heavy atoms and complete altLoc conformers...',\n",
      "           rpt_hdr='Missing Heavy Atoms:',\n",
      "           line_start='   Missing heavy atom  ',\n",
      "           skip_lines=['   Missing heavy atoms detected.'],\n",
      "           debuglog=False),\n",
      " 7: LogHdr(idx=7,\n",
      "           hdr='   Find distance clash (<2.000)...',\n",
      "           rpt_hdr='Distance Clashes:',\n",
      "           line_start=None,\n",
      "           skip_lines=None,\n",
      "           debuglog=False),\n",
      " 8: LogHdr(idx=8,\n",
      "           hdr='   Make connectivity network ...',\n",
      "           rpt_hdr='Connectivity:',\n",
      "           line_start=None,\n",
      "           skip_lines=None,\n",
      "           debuglog=False)}\n"
     ]
    }
   ],
   "source": [
    "log_specs = log_parser.blocks_specs\n",
    "ptp(log_specs)"
   ]
  },
  {
   "cell_type": "code",
   "execution_count": 96,
   "metadata": {
    "scrolled": true
   },
   "outputs": [],
   "source": [
    "# single pdb report:\n",
    "\n",
    "pdb = Path(\"1fat.pdb\")\n",
    "args = {\"input_pdb\":pdb, \"fetch\":False}\n",
    "\n",
    "info.get_single_pdb_report(args)\n",
    "\n",
    "rptmd = Path(pdb).resolve().parent.joinpath(\"ProtInfo.md\")"
   ]
  },
  {
   "cell_type": "code",
   "execution_count": 97,
   "metadata": {},
   "outputs": [
    {
     "data": {
      "text/markdown": [
       "---\n",
       "# 1fat\n",
       "## ParsedStructure\n",
       "### Chains\n",
       "  * <strong>4 </strong> : A, B, C, D\n",
       "\n",
       "### Residues\n",
       "  - 956\n",
       "\n",
       "### Waters\n",
       "  - 4\n",
       "\n",
       "### Warnings\n",
       "  - <strong><font color='red'>Discontinuity</font> </strong>\n",
       "    - Chain A: ['Line 7975', 'Line 8039']\n",
       "    - Chain B: ['Line 7991', 'Line 8043']\n",
       "    - Chain C: ['Line 8007', 'Line 8047']\n",
       "    - Chain D: ['Line 8023', 'Line 8051']\n",
       "\n",
       "## MCCE.Step1\n",
       "### Renamed:\n",
       "  - \"CA    CA A 255\" to \"CA   _CA A 255\"\n",
       "  - \"CA    CA B 255\" to \"CA   _CA B 255\"\n",
       "  - \"CA    CA C 255\" to \"CA   _CA C 255\"\n",
       "  - \"CA    CA D 255\" to \"CA   _CA D 255\"\n",
       "  - \"MN    MN A 254\" to \"MN   _MN A 254\"\n",
       "  - \"MN    MN B 254\" to \"MN   _MN B 254\"\n",
       "  - \"MN    MN C 254\" to \"MN   _MN C 254\"\n",
       "  - \"MN    MN D 254\" to \"MN   _MN D 254\"\n",
       "\n",
       "### Termini:\n",
       "  * <strong>NTR </strong> : \"SER A   1\", \"ASN A  38\", \"SER B   1\", \"SER C   1\", \"ASN C  38\", \"SER D   1\", \"ASN D  38\"\n",
       "  * <strong>CTR </strong> : \"ASN A  36\", \"SER A 233\", \"SER B 233\", \"ASN C  36\", \"SER C 233\", \"LEU D  35\", \"SER D 233\"\n",
       "\n",
       "### Labeling:\n",
       "  - <strong><font color='red'>Generic topology file created for:</font> </strong>\n",
       "  - NAG::  https://pubchem.ncbi.nlm.nih.gov/#query=NAG&tab=substance\n",
       "  - _MN::  https://pubchem.ncbi.nlm.nih.gov/#query=MN&tab=substance\n",
       "  - _CA::  https://pubchem.ncbi.nlm.nih.gov/#query=CA&tab=substance\n",
       "\n",
       "### Free Cofactors:\n",
       "  - Species and properties with assigned default values in debug.log:\n",
       "  - \tNAGBK: ['VDW_RAD', 'VDW_EPS']\n",
       "  - \t_MNBK: ['VDW_RAD', 'VDW_EPS']\n",
       "  - \t_CABK: ['VDW_RAD', 'VDW_EPS']\n",
       "\n",
       "### Missing Heavy Atoms:\n",
       "  - OXT of conf CTR01 in \"CTR A  36\".\n",
       "  - OXT of conf CTR01 in \"CTR A 233\".\n",
       "  - OXT of conf CTR01 in \"CTR B 233\".\n",
       "  - OXT of conf CTR01 in \"CTR C  36\".\n",
       "  - OXT of conf CTR01 in \"CTR C 233\".\n",
       "  - OXT of conf CTR01 in \"CTR D  35\".\n",
       "  - OXT of conf CTR01 in \"CTR D 233\".\n",
       "\n",
       "### Distance Clashes:\n",
       "<details><summary>Clashes found</summary>\n",
       "\n",
       "  -    d= 1.53: \" CA  NTR A   1\" to \" CB  SER A   1\"\n",
       "  -    d= 1.45: \" ND2 ASN A  12\" to \" C1  NAG A 253\"\n",
       "  -    d= 1.53: \" CA  NTR A  38\" to \" CB  ASN A  38\"\n",
       "  -    d= 1.52: \" CA  NTR B   1\" to \" CB  SER B   1\"\n",
       "  -    d= 1.48: \" ND2 ASN B  12\" to \" C1  NAG B 253\"\n",
       "  -    d= 1.53: \" CA  NTR C   1\" to \" CB  SER C   1\"\n",
       "  -    d= 1.45: \" ND2 ASN C  12\" to \" C1  NAG C 253\"\n",
       "  -    d= 1.52: \" CA  NTR C  38\" to \" CB  ASN C  38\"\n",
       "  -    d= 1.87: \" OD1 ASN C 128\" to \"CA   _CA C 255\"\n",
       "  -    d= 1.82: \" NE2 HIS C 137\" to \"MN   _MN C 254\"\n",
       "  -    d= 1.54: \" CA  NTR D   1\" to \" CB  SER D   1\"\n",
       "  -    d= 1.43: \" ND2 ASN D  12\" to \" C1  NAG D 253\"\n",
       "  -    d= 1.55: \" CA  NTR D  38\" to \" CB  ASN D  38\"\n",
       "  -    d= 1.70: \"MN   _MN A 254\" to \" O   HOH A 307\"\n",
       "  -    d= 1.46: \"MN   _MN A 254\" to \" O   HOH A 308\"\n",
       "  -    d= 1.99: \"CA   _CA A 255\" to \" O   HOH A 306\"\n",
       "  -    d= 1.45: \"MN   _MN B 254\" to \" O   HOH B 304\"\n",
       "  -    d= 1.69: \"CA   _CA B 255\" to \" O   HOH B 301\"\n",
       "  -    d= 1.55: \"MN   _MN C 254\" to \" O   HOH C 316\"\n",
       "  -    d= 1.50: \"MN   _MN D 254\" to \" O   HOH D 311\"\n",
       "  -    d= 1.52: \"MN   _MN D 254\" to \" O   HOH D 312\"\n",
       "</details>\n",
       "\n",
       "---\n"
      ],
      "text/plain": [
       "<IPython.core.display.Markdown object>"
      ]
     },
     "execution_count": 97,
     "metadata": {},
     "output_type": "execute_result"
    }
   ],
   "source": [
    "Markdown(filename=rptmd)"
   ]
  },
  {
   "cell_type": "code",
   "execution_count": 83,
   "metadata": {
    "collapsed": true,
    "jupyter": {
     "outputs_hidden": true
    }
   },
   "outputs": [
    {
     "data": {
      "text/plain": [
       "{'1fat': {'ParsedStructure': {'Chains': [(4, ['A', 'B', 'C', 'D'])],\n",
       "   'Residues': [956],\n",
       "   'Waters': [4],\n",
       "   'Warnings': {'Discontinuity': {'Chain A': ['Line 7975', 'Line 8039'],\n",
       "     'Chain B': ['Line 7991', 'Line 8043'],\n",
       "     'Chain C': ['Line 8007', 'Line 8047'],\n",
       "     'Chain D': ['Line 8023', 'Line 8051']}}}}}"
      ]
     },
     "execution_count": 83,
     "metadata": {},
     "output_type": "execute_result"
    },
    {
     "data": {
      "text/plain": [
       "{'1fat': {'MCCE.Step1': {'Renamed:': ['\"CA    CA A 255\" to \"CA   _CA A 255\"',\n",
       "    '\"CA    CA B 255\" to \"CA   _CA B 255\"',\n",
       "    '\"CA    CA C 255\" to \"CA   _CA C 255\"',\n",
       "    '\"CA    CA D 255\" to \"CA   _CA D 255\"',\n",
       "    '\"MN    MN A 254\" to \"MN   _MN A 254\"',\n",
       "    '\"MN    MN B 254\" to \"MN   _MN B 254\"',\n",
       "    '\"MN    MN C 254\" to \"MN   _MN C 254\"',\n",
       "    '\"MN    MN D 254\" to \"MN   _MN D 254\"'],\n",
       "   'Termini:': [('NTR',\n",
       "     ['\"SER A   1\"',\n",
       "      '\"ASN A  38\"',\n",
       "      '\"SER B   1\"',\n",
       "      '\"SER C   1\"',\n",
       "      '\"ASN C  38\"',\n",
       "      '\"SER D   1\"',\n",
       "      '\"ASN D  38\"']),\n",
       "    ('CTR',\n",
       "     ['\"ASN A  36\"',\n",
       "      '\"SER A 233\"',\n",
       "      '\"SER B 233\"',\n",
       "      '\"ASN C  36\"',\n",
       "      '\"SER C 233\"',\n",
       "      '\"LEU D  35\"',\n",
       "      '\"SER D 233\"'])],\n",
       "   'Labeling:': ['Generic topology file created for:',\n",
       "    'NAG::  https://pubchem.ncbi.nlm.nih.gov/#query=NAG&tab=substance',\n",
       "    '_MN::  https://pubchem.ncbi.nlm.nih.gov/#query=MN&tab=substance',\n",
       "    '_CA::  https://pubchem.ncbi.nlm.nih.gov/#query=CA&tab=substance'],\n",
       "   'Load Structure:': [],\n",
       "   'Free Cofactors:': ['Species and properties with assigned default values in debug.log:',\n",
       "    \"\\tNAGBK: ['VDW_RAD', 'VDW_EPS']\",\n",
       "    \"\\t_MNBK: ['VDW_RAD', 'VDW_EPS']\",\n",
       "    \"\\t_CABK: ['VDW_RAD', 'VDW_EPS']\"],\n",
       "   'Missing Heavy Atoms:': ['OXT of conf CTR01 in \"CTR A  36\".',\n",
       "    'OXT of conf CTR01 in \"CTR A 233\".',\n",
       "    'OXT of conf CTR01 in \"CTR B 233\".',\n",
       "    'OXT of conf CTR01 in \"CTR C  36\".',\n",
       "    'OXT of conf CTR01 in \"CTR C 233\".',\n",
       "    'OXT of conf CTR01 in \"CTR D  35\".',\n",
       "    'OXT of conf CTR01 in \"CTR D 233\".'],\n",
       "   'Distance Clashes:': ['   d= 1.53: \" CA  NTR A   1\" to \" CB  SER A   1\"',\n",
       "    '   d= 1.45: \" ND2 ASN A  12\" to \" C1  NAG A 253\"',\n",
       "    '   d= 1.53: \" CA  NTR A  38\" to \" CB  ASN A  38\"',\n",
       "    '   d= 1.52: \" CA  NTR B   1\" to \" CB  SER B   1\"',\n",
       "    '   d= 1.48: \" ND2 ASN B  12\" to \" C1  NAG B 253\"',\n",
       "    '   d= 1.53: \" CA  NTR C   1\" to \" CB  SER C   1\"',\n",
       "    '   d= 1.45: \" ND2 ASN C  12\" to \" C1  NAG C 253\"',\n",
       "    '   d= 1.52: \" CA  NTR C  38\" to \" CB  ASN C  38\"',\n",
       "    '   d= 1.87: \" OD1 ASN C 128\" to \"CA   _CA C 255\"',\n",
       "    '   d= 1.82: \" NE2 HIS C 137\" to \"MN   _MN C 254\"',\n",
       "    '   d= 1.54: \" CA  NTR D   1\" to \" CB  SER D   1\"',\n",
       "    '   d= 1.43: \" ND2 ASN D  12\" to \" C1  NAG D 253\"',\n",
       "    '   d= 1.55: \" CA  NTR D  38\" to \" CB  ASN D  38\"',\n",
       "    '   d= 1.70: \"MN   _MN A 254\" to \" O   HOH A 307\"',\n",
       "    '   d= 1.46: \"MN   _MN A 254\" to \" O   HOH A 308\"',\n",
       "    '   d= 1.99: \"CA   _CA A 255\" to \" O   HOH A 306\"',\n",
       "    '   d= 1.45: \"MN   _MN B 254\" to \" O   HOH B 304\"',\n",
       "    '   d= 1.69: \"CA   _CA B 255\" to \" O   HOH B 301\"',\n",
       "    '   d= 1.55: \"MN   _MN C 254\" to \" O   HOH C 316\"',\n",
       "    '   d= 1.50: \"MN   _MN D 254\" to \" O   HOH D 311\"',\n",
       "    '   d= 1.52: \"MN   _MN D 254\" to \" O   HOH D 312\"'],\n",
       "   'Connectivity:': []}}}"
      ]
     },
     "execution_count": 83,
     "metadata": {},
     "output_type": "execute_result"
    }
   ],
   "source": [
    "prot_d, s1_d = info.collect_info(pdb)\n",
    "prot_d\n",
    "\n",
    "s1_d"
   ]
  },
  {
   "cell_type": "raw",
   "metadata": {},
   "source": [
    "pdbs = [Path(\"4lzt.pdb\"), Path(\"1ans.pdb\"), Path(\"1fat.pdb\")]\n",
    "pdbs = [Path(\"1fat.pdb\")]\n",
    "\n",
    "DO_STEP1 = USER_MCCE is not None\n",
    "\n",
    "for pdb in pdbs:\n",
    "    prot_info_d = info.info_input_prot(pdb)\n",
    "\n",
    "    # if multimodels, no need to run step1:\n",
    "    if \"MultiModels\" in prot_info_d[pdb.stem][\"Input.ParsedStructure\"]:\n",
    "        prot_info_d[pdb.stem][\"Input.Invalid\"] = info.ERR_MULTI_MODELS.format(pdb.stem)\n",
    "        DO_STEP1 = False\n",
    "        s1_info_d = None\n",
    "\n",
    "    if DO_STEP1:\n",
    "        #s1_start = time.time()\n",
    "        run.do_step1(pdb)\n",
    "        #elapsed = time.time() - s1_start\n",
    "        #print(f\"step1 took {elapsed:,.2f} s ({elapsed/60:,.2f} min).\")\n",
    "        time.sleep(2)\n",
    "        s1_info_d = log_parser.info_s1_log(pdb)\n",
    "\n",
    "    # keys in level corresponding in template blocks:\n",
    "    prot_info_d['1fat']['Input.ParsedStructure'].keys()\n",
    "    s1_info_d['1fat']['MCCE.Step1'].keys()"
   ]
  },
  {
   "cell_type": "raw",
   "metadata": {
    "jupyter": {
     "source_hidden": true
    }
   },
   "source": [
    "# for testing\n",
    "\n",
    "warn_lst = prot_info_d[pdb.stem]['Input.ParsedStructure']['ParsedStructure.Warnings'].copy()\n",
    "warn_lst\n",
    "\n",
    "new_w = [\"Ignoring unrecognized record 'XUS' at line 3\",\n",
    "                 \"Ignoring unrecognized record 'FOO' at line 54\",\n",
    "\"Negative occupancy in one or more atoms\",\n",
    "\"Some atoms or residues may be missing in the data structure.\"]\n",
    "for w in new_w:\n",
    "    warn_lst.append(w)\n",
    "\n",
    "warn_lst"
   ]
  },
  {
   "cell_type": "code",
   "execution_count": null,
   "metadata": {},
   "outputs": [],
   "source": []
  },
  {
   "cell_type": "raw",
   "metadata": {
    "jupyter": {
     "source_hidden": true
    }
   },
   "source": [
    "    Parse run.log after running step1 only.\n",
    "    TODO: Create an actionable report\n",
    "    Group by categories\n",
    "    Suggest remedial step(s)\n",
    "\n",
    "    prot.pdb check:\n",
    "    1. Multi model structures\n",
    "    2. AAs count in single model struc\n",
    "    3. Alt positions for ATOM: can stop mcce. altloc =  col17 != \"\"\n",
    "\n",
    "    step1_out.pdb check:\n",
    "    1. #HOH stripped\n",
    "    2. Terminal residues and atoms\n",
    "    3. Repairs done on prot\n",
    "    4. Creation of a new.tpl file, which means mcce does not have the corresponding topology.\n",
    "    5. Any mcce failure reported by mcce step1.py\n",
    "\n",
    "\n",
    "Specs:\n",
    "New feature:\n",
    "Implement a pre-run check function on user-provided pdbs\n",
    "\n",
    "\n",
    "Purpose:\n",
    "Run step1.py from created script on user-provided pdbs to flag problems before launching mcce on the set.\n",
    "\n",
    "\n",
    "Problems to flag:\n",
    "\n",
    "TODO: Create an actionable report\n",
    "      Group by categories\n",
    "      Suggest remedial step(s)\n",
    "\n",
    "1. Creation of a new.tpl file, which means mcce does not have the corresponding topology.\n",
    "2. Any mcce failure reported by mcce step1.py\n",
    "3. Repairs done on prot\n",
    "4. Terminal residues and atoms ?? with --noter?\n",
    "5. #HOH stripped\n",
    "6. AAs count\n",
    "7. Alt positions for ATOM : can stop mcce\n",
    "8. Multi model structures\n",
    "\n",
    "...................................................................\n",
    "NEW TPL DUE TO:\n",
    "#pdb cofactor\n",
    "1A6K SO4\n",
    "1A6M SO4\n",
    "1A6M OXY\n",
    "1B2V _CA\n",
    "1BHC SCN\n",
    "1BPI PO4\n",
    "1BUS PCA\n",
    "1BVI 2GP\n",
    "1BVI _CA\n",
    "1D0D SO4\n",
    "1DG9 EPE\n",
    "1DWR CMO\n",
    "1DWR SO4\n",
    "1FEZ _MG\n",
    "1FEZ WO4\n",
    "1HHO PO4\n",
    "1HHO OXY\n",
    "1HRC ACE\n",
    "1IG5 _MG\n",
    "1IGV _MN\n",
    "1KF3 SO4\n",
    "1LNI SO4\n",
    "1LNI GOL\n",
    "1MBC SO4\n",
    "1MBC CMO\n",
    "1PNT PO4\n",
    "1POH SO4\n",
    "1PPF NAG\n",
    "1PPF BMA\n",
    "1PPF MAN\n",
    "1PPF GAL\n",
    "1PPF FUC\n",
    "1PPF GLC\n",
    "1PPN UNL   # unknown res, but looks like thiocysteine\n",
    "1PPO _HG\n",
    "1QH7 PCA\n",
    "1QH7 XYP\n",
    "1RDD _MG\n",
    "1RGG SO4\n",
    "1WLA SO4\n",
    "1XNB SO4\n",
    "1YMB SO4\n",
    "1Z12 VO4\n",
    "2BUS PCA\n",
    "2QMT PO4\n",
    "2QMT MRD\n",
    "2QMT IPA\n",
    "2SNI _CA\n",
    "2TGA _CA\n",
    "3EBX SO4\n",
    "3ICB _CA\n",
    "3ICB SO4\n",
    "3RN3 SO4\n",
    "3SRN SO4\n",
    "4HHB PO4\n",
    "4ICB _CA\n",
    "4MBN SO4\n",
    "7RSA TBU\n",
    "7RSA DOD\n",
    "9RNT _CA\n",
    "\n",
    ".........................\n",
    "UNIQUE missing cofactors:\n",
    "(base) cat@LABTOP:~/projects/MCCE_Benchmarking$ cat legacy/missing_cofactors.txt\n",
    "2GP\n",
    "ACE\n",
    "BMA\n",
    "CMO\n",
    "DOD\n",
    "EPE\n",
    "FUC\n",
    "GAL\n",
    "GLC\n",
    "GOL\n",
    "IPA\n",
    "MAN\n",
    "MRD\n",
    "NAG\n",
    "OXY\n",
    "PCA\n",
    "PO4\n",
    "SCN\n",
    "SO4\n",
    "TBU\n",
    "UNL\n",
    "VO4\n",
    "WO4\n",
    "XYP\n",
    "_CA\n",
    "_HG\n",
    "_MG\n",
    "_MN\n",
    ".........................\n",
    "\n",
    "TBD: \n",
    "1. When to run?\n",
    "[CC]: Option1: To take advantage of the scheduler, we could:\n",
    " - do the ususal setup in a 'prerun' subfolder w/ new script for step1 only, e.g prerun.sh;\n",
    " - run the \"prerun analysis\" when all runs completed\n",
    "\n",
    "[CC]\" Option2: Run step1 for each pdb in list before setting up the runs/subfolders:\n",
    " - step1 is super fast, so doable (with short sleep time for safety)\n",
    "\n",
    "2. Heuristics for possible, automated resolution of Problem #1 (in Problems to flag):\n",
    "\n",
    "=> TODO: Use trial run \"s1all\" problem report to see range of errors.\n",
    "\n",
    " - Remove problem files from the set?\n",
    " - Remove cofactors for which the new.tpl was created from those pdbs?\n",
    " - Create a remove_list of cofactors to be removed before running step1?\n",
    "\n",
    "===========================================\n",
    "# trial run: s1all :: all pkdb pdbs with step1 dry & noter =>\n",
    "\n",
    "1. GLY: no topology for terminal GLY OXT atom : only case with OXT and FATAL\n",
    "(base) cat@LABTOP:~/projects/bench_tests/s1all$ grep \"OXT\" runs/1MBC/prot.pdb\n",
    "ATOM   1244  OXT GLY A 153      -0.931  24.857  -1.468  1.00 37.12           O\n",
    "\n",
    "===========================================\n",
    "\n",
    "From jmao's email 4/11/24:\n",
    "...........................................\n",
    "The script is striph2o.py. You may change the first line pypy3 to python in striph2o.py if your system doesn't have pypy3 installed.\n",
    "\n",
    "(base) jmao@hudson:~/projects/Stable-MCCE/bin$ striph2o.py -h\n",
    "usage: striph2o.py [-h] [-c RES [RES ...]] [-s exposure] -f inputfile [-o outputfile]\n",
    "\n",
    "Strip off exposed cofactors like water and ions based on solvent accessible surface area.\n",
    "\n",
    "options:\n",
    "  -h, --help        show this help message and exit\n",
    "  -c RES [RES ...]  Specify cofactor names to strip off, default is HOH.\n",
    "  -s exposure       Fraction exposure threshold to be cut. Default is 0.05.\n",
    "  -f inputfile      Input file name.\n",
    "  -o outputfile     Output file name, default is inputfile name with extension .stripped.\n",
    "\n",
    "\n",
    "You can specify what cofactors and what exposure threshold to strip off the cofactors.\n",
    "The program strips layer by layer until all exposed specified cofactors are stripped off.\n",
    ".........................................."
   ]
  },
  {
   "cell_type": "raw",
   "metadata": {},
   "source": [
    "# Methanol labelled as CTR in 1PPN\n",
    "\n",
    "(mce) cchenal@isis:~/projects$ grep -n \"MOH\" nbo_runs/runs/1PPN/prot.pdb\n",
    "460:HET    MOH  A 302       2\n",
    "462:HETNAM     MOH METHANOL\n",
    "463:FORMUL   3  MOH    C H4 O\n",
    "2156:HETATM 1662  C   MOH A 302      18.346   8.892  16.342  1.00 19.50           C\n",
    "2157:HETATM 1663  O   MOH A 302      17.297   9.873  16.705  1.00 31.11           O\n",
    "\n",
    "(mce) cchenal@isis:~/projects$ grep -n \"MOH\" nbo_runs/runs/1PPN/run.log\n",
    "48:      Labeling \"MOH A 302\" as CTR"
   ]
  },
  {
   "cell_type": "markdown",
   "metadata": {},
   "source": [
    "---\n",
    "---"
   ]
  },
  {
   "cell_type": "raw",
   "metadata": {},
   "source": [
    "import logging\n",
    "logger = logging.getLogger('cli')"
   ]
  },
  {
   "cell_type": "markdown",
   "metadata": {},
   "source": [
    "---\n",
    "# Test cli"
   ]
  },
  {
   "cell_type": "code",
   "execution_count": 4,
   "metadata": {},
   "outputs": [],
   "source": [
    "from argparse import ArgumentParser, ArgumentError, RawDescriptionHelpFormatter, Namespace\n"
   ]
  },
  {
   "cell_type": "raw",
   "metadata": {},
   "source": [
    "clilogr = cli.logger\n",
    "clilogr.hasHandlers()"
   ]
  },
  {
   "cell_type": "code",
   "execution_count": 5,
   "metadata": {},
   "outputs": [],
   "source": [
    "cli_parser = cli.bench_parser()"
   ]
  },
  {
   "cell_type": "raw",
   "metadata": {},
   "source": [
    "cli_parser.print_help()"
   ]
  }
 ],
 "metadata": {
  "kernelspec": {
   "display_name": "Python [conda env:rpt]",
   "language": "python",
   "name": "conda-env-rpt-py"
  },
  "language_info": {
   "codemirror_mode": {
    "name": "ipython",
    "version": 3
   },
   "file_extension": ".py",
   "mimetype": "text/x-python",
   "name": "python",
   "nbconvert_exporter": "python",
   "pygments_lexer": "ipython3",
   "version": "3.12.3"
  }
 },
 "nbformat": 4,
 "nbformat_minor": 4
}
